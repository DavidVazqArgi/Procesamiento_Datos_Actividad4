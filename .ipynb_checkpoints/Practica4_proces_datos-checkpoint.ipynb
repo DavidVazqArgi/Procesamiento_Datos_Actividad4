{
 "cells": [
  {
   "cell_type": "markdown",
   "metadata": {},
   "source": [
    "# Universidad Europea de Madrid - Master Big Data 2022-2023\n",
    "# Procesamiento de Datos\n",
    "\n",
    "## Práctica 4\n",
    "\n",
    "\n",
    "\n",
    "Alumnos:\n",
    "- Límber García Vílchez\n",
    "- David Vázquez Argibay\n",
    "- Javier Vázquez García\n"
   ]
  },
  {
   "cell_type": "code",
   "execution_count": null,
   "metadata": {},
   "outputs": [],
   "source": []
  }
 ],
 "metadata": {
  "kernelspec": {
   "display_name": "Python 3 (ipykernel)",
   "language": "python",
   "name": "python3"
  },
  "language_info": {
   "codemirror_mode": {
    "name": "ipython",
    "version": 3
   },
   "file_extension": ".py",
   "mimetype": "text/x-python",
   "name": "python",
   "nbconvert_exporter": "python",
   "pygments_lexer": "ipython3",
   "version": "3.9.16"
  }
 },
 "nbformat": 4,
 "nbformat_minor": 4
}
