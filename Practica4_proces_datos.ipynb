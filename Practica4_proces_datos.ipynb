{
 "cells": [
  {
   "cell_type": "markdown",
   "metadata": {},
   "source": [
    "# Universidad Europea de Madrid - Master Big Data 2022-2023\n",
    "# Procesamiento de Datos\n",
    "\n",
    "## Práctica 4\n",
    "\n",
    "\n",
    "\n",
    "Alumnos:\n",
    "- Límber García Vílchez\n",
    "- David Vázquez Argibay\n",
    "- Javier Vázquez García\n"
   ]
  },
  {
   "cell_type": "markdown",
   "metadata": {},
   "source": [
    "### Ejercicio 1. \n",
    "\n",
    "**Utiliza el siguiente enlace para descargar el Diabetes Dataset, junto con su\n",
    "fichero de nombres. Utiliza un Jupyter Notebook y el paquete Pandas para\n",
    "abrir el archivo y presentarlo en formato DataFrame, donde el nombre de las\n",
    "columnas debe corresponder con el nombre real de las variables.\n",
    "<https://www.kaggle.com/uciml/pima-indians-diabetes-database>**"
   ]
  },
  {
   "cell_type": "code",
   "execution_count": 1,
   "metadata": {},
   "outputs": [],
   "source": [
    "import pandas as pd\n",
    "import numpy as np\n",
    "import matplotlib.pyplot as plt\n",
    "import seaborn as sns"
   ]
  },
  {
   "cell_type": "code",
   "execution_count": 2,
   "metadata": {},
   "outputs": [],
   "source": [
    "df_diabetes = pd.read_csv('diabetes.csv')"
   ]
  },
  {
   "cell_type": "code",
   "execution_count": 3,
   "metadata": {},
   "outputs": [
    {
     "data": {
      "text/html": [
       "<div>\n",
       "<style scoped>\n",
       "    .dataframe tbody tr th:only-of-type {\n",
       "        vertical-align: middle;\n",
       "    }\n",
       "\n",
       "    .dataframe tbody tr th {\n",
       "        vertical-align: top;\n",
       "    }\n",
       "\n",
       "    .dataframe thead th {\n",
       "        text-align: right;\n",
       "    }\n",
       "</style>\n",
       "<table border=\"1\" class=\"dataframe\">\n",
       "  <thead>\n",
       "    <tr style=\"text-align: right;\">\n",
       "      <th></th>\n",
       "      <th>Pregnancies</th>\n",
       "      <th>Glucose</th>\n",
       "      <th>BloodPressure</th>\n",
       "      <th>SkinThickness</th>\n",
       "      <th>Insulin</th>\n",
       "      <th>BMI</th>\n",
       "      <th>DiabetesPedigreeFunction</th>\n",
       "      <th>Age</th>\n",
       "      <th>Outcome</th>\n",
       "    </tr>\n",
       "  </thead>\n",
       "  <tbody>\n",
       "    <tr>\n",
       "      <th>0</th>\n",
       "      <td>6</td>\n",
       "      <td>148</td>\n",
       "      <td>72</td>\n",
       "      <td>35</td>\n",
       "      <td>0</td>\n",
       "      <td>33.6</td>\n",
       "      <td>0.627</td>\n",
       "      <td>50</td>\n",
       "      <td>1</td>\n",
       "    </tr>\n",
       "    <tr>\n",
       "      <th>1</th>\n",
       "      <td>1</td>\n",
       "      <td>85</td>\n",
       "      <td>66</td>\n",
       "      <td>29</td>\n",
       "      <td>0</td>\n",
       "      <td>26.6</td>\n",
       "      <td>0.351</td>\n",
       "      <td>31</td>\n",
       "      <td>0</td>\n",
       "    </tr>\n",
       "    <tr>\n",
       "      <th>2</th>\n",
       "      <td>8</td>\n",
       "      <td>183</td>\n",
       "      <td>64</td>\n",
       "      <td>0</td>\n",
       "      <td>0</td>\n",
       "      <td>23.3</td>\n",
       "      <td>0.672</td>\n",
       "      <td>32</td>\n",
       "      <td>1</td>\n",
       "    </tr>\n",
       "    <tr>\n",
       "      <th>3</th>\n",
       "      <td>1</td>\n",
       "      <td>89</td>\n",
       "      <td>66</td>\n",
       "      <td>23</td>\n",
       "      <td>94</td>\n",
       "      <td>28.1</td>\n",
       "      <td>0.167</td>\n",
       "      <td>21</td>\n",
       "      <td>0</td>\n",
       "    </tr>\n",
       "    <tr>\n",
       "      <th>4</th>\n",
       "      <td>0</td>\n",
       "      <td>137</td>\n",
       "      <td>40</td>\n",
       "      <td>35</td>\n",
       "      <td>168</td>\n",
       "      <td>43.1</td>\n",
       "      <td>2.288</td>\n",
       "      <td>33</td>\n",
       "      <td>1</td>\n",
       "    </tr>\n",
       "    <tr>\n",
       "      <th>...</th>\n",
       "      <td>...</td>\n",
       "      <td>...</td>\n",
       "      <td>...</td>\n",
       "      <td>...</td>\n",
       "      <td>...</td>\n",
       "      <td>...</td>\n",
       "      <td>...</td>\n",
       "      <td>...</td>\n",
       "      <td>...</td>\n",
       "    </tr>\n",
       "    <tr>\n",
       "      <th>763</th>\n",
       "      <td>10</td>\n",
       "      <td>101</td>\n",
       "      <td>76</td>\n",
       "      <td>48</td>\n",
       "      <td>180</td>\n",
       "      <td>32.9</td>\n",
       "      <td>0.171</td>\n",
       "      <td>63</td>\n",
       "      <td>0</td>\n",
       "    </tr>\n",
       "    <tr>\n",
       "      <th>764</th>\n",
       "      <td>2</td>\n",
       "      <td>122</td>\n",
       "      <td>70</td>\n",
       "      <td>27</td>\n",
       "      <td>0</td>\n",
       "      <td>36.8</td>\n",
       "      <td>0.340</td>\n",
       "      <td>27</td>\n",
       "      <td>0</td>\n",
       "    </tr>\n",
       "    <tr>\n",
       "      <th>765</th>\n",
       "      <td>5</td>\n",
       "      <td>121</td>\n",
       "      <td>72</td>\n",
       "      <td>23</td>\n",
       "      <td>112</td>\n",
       "      <td>26.2</td>\n",
       "      <td>0.245</td>\n",
       "      <td>30</td>\n",
       "      <td>0</td>\n",
       "    </tr>\n",
       "    <tr>\n",
       "      <th>766</th>\n",
       "      <td>1</td>\n",
       "      <td>126</td>\n",
       "      <td>60</td>\n",
       "      <td>0</td>\n",
       "      <td>0</td>\n",
       "      <td>30.1</td>\n",
       "      <td>0.349</td>\n",
       "      <td>47</td>\n",
       "      <td>1</td>\n",
       "    </tr>\n",
       "    <tr>\n",
       "      <th>767</th>\n",
       "      <td>1</td>\n",
       "      <td>93</td>\n",
       "      <td>70</td>\n",
       "      <td>31</td>\n",
       "      <td>0</td>\n",
       "      <td>30.4</td>\n",
       "      <td>0.315</td>\n",
       "      <td>23</td>\n",
       "      <td>0</td>\n",
       "    </tr>\n",
       "  </tbody>\n",
       "</table>\n",
       "<p>768 rows × 9 columns</p>\n",
       "</div>"
      ],
      "text/plain": [
       "     Pregnancies  Glucose  BloodPressure  SkinThickness  Insulin   BMI  \\\n",
       "0              6      148             72             35        0  33.6   \n",
       "1              1       85             66             29        0  26.6   \n",
       "2              8      183             64              0        0  23.3   \n",
       "3              1       89             66             23       94  28.1   \n",
       "4              0      137             40             35      168  43.1   \n",
       "..           ...      ...            ...            ...      ...   ...   \n",
       "763           10      101             76             48      180  32.9   \n",
       "764            2      122             70             27        0  36.8   \n",
       "765            5      121             72             23      112  26.2   \n",
       "766            1      126             60              0        0  30.1   \n",
       "767            1       93             70             31        0  30.4   \n",
       "\n",
       "     DiabetesPedigreeFunction  Age  Outcome  \n",
       "0                       0.627   50        1  \n",
       "1                       0.351   31        0  \n",
       "2                       0.672   32        1  \n",
       "3                       0.167   21        0  \n",
       "4                       2.288   33        1  \n",
       "..                        ...  ...      ...  \n",
       "763                     0.171   63        0  \n",
       "764                     0.340   27        0  \n",
       "765                     0.245   30        0  \n",
       "766                     0.349   47        1  \n",
       "767                     0.315   23        0  \n",
       "\n",
       "[768 rows x 9 columns]"
      ]
     },
     "execution_count": 3,
     "metadata": {},
     "output_type": "execute_result"
    }
   ],
   "source": [
    "df_diabetes"
   ]
  },
  {
   "cell_type": "markdown",
   "metadata": {},
   "source": [
    "**1.a. Utiliza el método info de Pandas sobre el DataFrame para comprobar que\n",
    "todas las variables del problema son numéricas. ¿Cuántos valores\n",
    "faltantes tiene cada variable?**"
   ]
  },
  {
   "cell_type": "code",
   "execution_count": 4,
   "metadata": {},
   "outputs": [
    {
     "name": "stdout",
     "output_type": "stream",
     "text": [
      "<class 'pandas.core.frame.DataFrame'>\n",
      "RangeIndex: 768 entries, 0 to 767\n",
      "Data columns (total 9 columns):\n",
      " #   Column                    Non-Null Count  Dtype  \n",
      "---  ------                    --------------  -----  \n",
      " 0   Pregnancies               768 non-null    int64  \n",
      " 1   Glucose                   768 non-null    int64  \n",
      " 2   BloodPressure             768 non-null    int64  \n",
      " 3   SkinThickness             768 non-null    int64  \n",
      " 4   Insulin                   768 non-null    int64  \n",
      " 5   BMI                       768 non-null    float64\n",
      " 6   DiabetesPedigreeFunction  768 non-null    float64\n",
      " 7   Age                       768 non-null    int64  \n",
      " 8   Outcome                   768 non-null    int64  \n",
      "dtypes: float64(2), int64(7)\n",
      "memory usage: 54.1 KB\n"
     ]
    }
   ],
   "source": [
    "df_diabetes.info()"
   ]
  },
  {
   "cell_type": "code",
   "execution_count": 5,
   "metadata": {},
   "outputs": [
    {
     "name": "stdout",
     "output_type": "stream",
     "text": [
      "Pregnancies [ 6  1  8  0  5  3 10  2  4  7  9 11 13 15 17 12 14]\n",
      "Glucose [148  85 183  89 137 116  78 115 197 125 110 168 139 189 166 100 118 107\n",
      " 103 126  99 196 119 143 147  97 145 117 109 158  88  92 122 138 102  90\n",
      " 111 180 133 106 171 159 146  71 105 101 176 150  73 187  84  44 141 114\n",
      "  95 129  79   0  62 131 112 113  74  83 136  80 123  81 134 142 144  93\n",
      " 163 151  96 155  76 160 124 162 132 120 173 170 128 108 154  57 156 153\n",
      " 188 152 104  87  75 179 130 194 181 135 184 140 177 164  91 165  86 193\n",
      " 191 161 167  77 182 157 178  61  98 127  82  72 172  94 175 195  68 186\n",
      " 198 121  67 174 199  56 169 149  65 190]\n",
      "BloodPressure [ 72  66  64  40  74  50   0  70  96  92  80  60  84  30  88  90  94  76\n",
      "  82  75  58  78  68 110  56  62  85  86  48  44  65 108  55 122  54  52\n",
      "  98 104  95  46 102 100  61  24  38 106 114]\n",
      "SkinThickness [35 29  0 23 32 45 19 47 38 30 41 33 26 15 36 11 31 37 42 25 18 24 39 27\n",
      " 21 34 10 60 13 20 22 28 54 40 51 56 14 17 50 44 12 46 16  7 52 43 48  8\n",
      " 49 63 99]\n",
      "Insulin [  0  94 168  88 543 846 175 230  83  96 235 146 115 140 110 245  54 192\n",
      " 207  70 240  82  36  23 300 342 304 142 128  38 100  90 270  71 125 176\n",
      "  48  64 228  76 220  40 152  18 135 495  37  51  99 145 225  49  50  92\n",
      " 325  63 284 119 204 155 485  53 114 105 285 156  78 130  55  58 160 210\n",
      " 318  44 190 280  87 271 129 120 478  56  32 744 370  45 194 680 402 258\n",
      " 375 150  67  57 116 278 122 545  75  74 182 360 215 184  42 132 148 180\n",
      " 205  85 231  29  68  52 255 171  73 108  43 167 249 293  66 465  89 158\n",
      "  84  72  59  81 196 415 275 165 579 310  61 474 170 277  60  14  95 237\n",
      " 191 328 250 480 265 193  79  86 326 188 106  65 166 274  77 126 330 600\n",
      " 185  25  41 272 321 144  15 183  91  46 440 159 540 200 335 387  22 291\n",
      " 392 178 127 510  16 112]\n",
      "BMI [33.6 26.6 23.3 28.1 43.1 25.6 31.  35.3 30.5  0.  37.6 38.  27.1 30.1\n",
      " 25.8 30.  45.8 29.6 43.3 34.6 39.3 35.4 39.8 29.  36.6 31.1 39.4 23.2\n",
      " 22.2 34.1 36.  31.6 24.8 19.9 27.6 24.  33.2 32.9 38.2 37.1 34.  40.2\n",
      " 22.7 45.4 27.4 42.  29.7 28.  39.1 19.4 24.2 24.4 33.7 34.7 23.  37.7\n",
      " 46.8 40.5 41.5 25.  25.4 32.8 32.5 42.7 19.6 28.9 28.6 43.4 35.1 32.\n",
      " 24.7 32.6 43.2 22.4 29.3 24.6 48.8 32.4 38.5 26.5 19.1 46.7 23.8 33.9\n",
      " 20.4 28.7 49.7 39.  26.1 22.5 39.6 29.5 34.3 37.4 33.3 31.2 28.2 53.2\n",
      " 34.2 26.8 55.  42.9 34.5 27.9 38.3 21.1 33.8 30.8 36.9 39.5 27.3 21.9\n",
      " 40.6 47.9 50.  25.2 40.9 37.2 44.2 29.9 31.9 28.4 43.5 32.7 67.1 45.\n",
      " 34.9 27.7 35.9 22.6 33.1 30.4 52.3 24.3 22.9 34.8 30.9 40.1 23.9 37.5\n",
      " 35.5 42.8 42.6 41.8 35.8 37.8 28.8 23.6 35.7 36.7 45.2 44.  46.2 35.\n",
      " 43.6 44.1 18.4 29.2 25.9 32.1 36.3 40.  25.1 27.5 45.6 27.8 24.9 25.3\n",
      " 37.9 27.  26.  38.7 20.8 36.1 30.7 32.3 52.9 21.  39.7 25.5 26.2 19.3\n",
      " 38.1 23.5 45.5 23.1 39.9 36.8 21.8 41.  42.2 34.4 27.2 36.5 29.8 39.2\n",
      " 38.4 36.2 48.3 20.  22.3 45.7 23.7 22.1 42.1 42.4 18.2 26.4 45.3 37.\n",
      " 24.5 32.2 59.4 21.2 26.7 30.2 46.1 41.3 38.8 35.2 42.3 40.7 46.5 33.5\n",
      " 37.3 30.3 26.3 21.7 36.4 28.5 26.9 38.6 31.3 19.5 20.1 40.8 23.4 28.3\n",
      " 38.9 57.3 35.6 49.6 44.6 24.1 44.5 41.2 49.3 46.3]\n",
      "DiabetesPedigreeFunction [0.627 0.351 0.672 0.167 2.288 0.201 0.248 0.134 0.158 0.232 0.191 0.537\n",
      " 1.441 0.398 0.587 0.484 0.551 0.254 0.183 0.529 0.704 0.388 0.451 0.263\n",
      " 0.205 0.257 0.487 0.245 0.337 0.546 0.851 0.267 0.188 0.512 0.966 0.42\n",
      " 0.665 0.503 1.39  0.271 0.696 0.235 0.721 0.294 1.893 0.564 0.586 0.344\n",
      " 0.305 0.491 0.526 0.342 0.467 0.718 0.962 1.781 0.173 0.304 0.27  0.699\n",
      " 0.258 0.203 0.855 0.845 0.334 0.189 0.867 0.411 0.583 0.231 0.396 0.14\n",
      " 0.391 0.37  0.307 0.102 0.767 0.237 0.227 0.698 0.178 0.324 0.153 0.165\n",
      " 0.443 0.261 0.277 0.761 0.255 0.13  0.323 0.356 0.325 1.222 0.179 0.262\n",
      " 0.283 0.93  0.801 0.207 0.287 0.336 0.247 0.199 0.543 0.192 0.588 0.539\n",
      " 0.22  0.654 0.223 0.759 0.26  0.404 0.186 0.278 0.496 0.452 0.403 0.741\n",
      " 0.361 1.114 0.457 0.647 0.088 0.597 0.532 0.703 0.159 0.268 0.286 0.318\n",
      " 0.272 0.572 0.096 1.4   0.218 0.085 0.399 0.432 1.189 0.687 0.137 0.637\n",
      " 0.833 0.229 0.817 0.204 0.368 0.743 0.722 0.256 0.709 0.471 0.495 0.18\n",
      " 0.542 0.773 0.678 0.719 0.382 0.319 0.19  0.956 0.084 0.725 0.299 0.244\n",
      " 0.745 0.615 1.321 0.64  0.142 0.374 0.383 0.578 0.136 0.395 0.187 0.905\n",
      " 0.15  0.874 0.236 0.787 0.407 0.605 0.151 0.289 0.355 0.29  0.375 0.164\n",
      " 0.431 0.742 0.514 0.464 1.224 1.072 0.805 0.209 0.666 0.101 0.198 0.652\n",
      " 2.329 0.089 0.645 0.238 0.394 0.293 0.479 0.686 0.831 0.582 0.446 0.402\n",
      " 1.318 0.329 1.213 0.427 0.282 0.143 0.38  0.284 0.249 0.926 0.557 0.092\n",
      " 0.655 1.353 0.612 0.2   0.226 0.997 0.933 1.101 0.078 0.24  1.136 0.128\n",
      " 0.422 0.251 0.677 0.296 0.454 0.744 0.881 0.28  0.259 0.619 0.808 0.34\n",
      " 0.434 0.757 0.613 0.692 0.52  0.412 0.84  0.839 0.156 0.215 0.326 1.391\n",
      " 0.875 0.313 0.433 0.626 1.127 0.315 0.345 0.129 0.527 0.197 0.731 0.148\n",
      " 0.123 0.127 0.122 1.476 0.166 0.932 0.343 0.893 0.331 0.472 0.673 0.389\n",
      " 0.485 0.349 0.279 0.346 0.252 0.243 0.58  0.559 0.302 0.569 0.378 0.385\n",
      " 0.499 0.306 0.234 2.137 1.731 0.545 0.225 0.816 0.528 0.509 1.021 0.821\n",
      " 0.947 1.268 0.221 0.66  0.239 0.949 0.444 0.463 0.803 1.6   0.944 0.196\n",
      " 0.241 0.161 0.135 0.376 1.191 0.702 0.674 1.076 0.534 1.095 0.554 0.624\n",
      " 0.219 0.507 0.561 0.421 0.516 0.264 0.328 0.233 0.108 1.138 0.147 0.727\n",
      " 0.435 0.497 0.23  0.955 2.42  0.658 0.33  0.51  0.285 0.415 0.381 0.832\n",
      " 0.498 0.212 0.364 1.001 0.46  0.733 0.416 0.705 1.022 0.269 0.6   0.571\n",
      " 0.607 0.17  0.21  0.126 0.711 0.466 0.162 0.419 0.63  0.365 0.536 1.159\n",
      " 0.629 0.292 0.145 1.144 0.174 0.547 0.163 0.738 0.314 0.968 0.409 0.297\n",
      " 0.525 0.154 0.771 0.107 0.493 0.717 0.917 0.501 1.251 0.735 0.804 0.661\n",
      " 0.549 0.825 0.423 1.034 0.16  0.341 0.68  0.591 0.3   0.121 0.502 0.401\n",
      " 0.601 0.748 0.338 0.43  0.892 0.813 0.693 0.575 0.371 0.206 0.417 1.154\n",
      " 0.925 0.175 1.699 0.682 0.194 0.4   0.1   1.258 0.482 0.138 0.593 0.878\n",
      " 0.157 1.282 0.141 0.246 1.698 1.461 0.347 0.362 0.393 0.144 0.732 0.115\n",
      " 0.465 0.649 0.871 0.149 0.695 0.303 0.61  0.73  0.447 0.455 0.133 0.155\n",
      " 1.162 1.292 0.182 1.394 0.217 0.631 0.88  0.614 0.332 0.366 0.181 0.828\n",
      " 0.335 0.856 0.886 0.439 0.253 0.598 0.904 0.483 0.565 0.118 0.177 0.176\n",
      " 0.295 0.441 0.352 0.826 0.97  0.595 0.317 0.265 0.646 0.426 0.56  0.515\n",
      " 0.453 0.785 0.734 1.174 0.488 0.358 1.096 0.408 1.182 0.222 1.057 0.766\n",
      " 0.171]\n",
      "Age [50 31 32 21 33 30 26 29 53 54 34 57 59 51 27 41 43 22 38 60 28 45 35 46\n",
      " 56 37 48 40 25 24 58 42 44 39 36 23 61 69 62 55 65 47 52 66 49 63 67 72\n",
      " 81 64 70 68]\n",
      "Outcome [1 0]\n"
     ]
    }
   ],
   "source": [
    "for col in df_diabetes: print(col, df_diabetes[col].unique())"
   ]
  },
  {
   "cell_type": "markdown",
   "metadata": {},
   "source": [
    "Podemos ver que se reconocen todos los valores como numéricos int y float. No hay ningún null, ni ningún NaN.\n",
    "\n",
    "**Explica el nombre y el significado de las\n",
    "variables que aparecen en el dataset.** \n",
    "\n",
    "Copiamos la descripción encontrada en la fuente de datos:\n",
    "\n",
    "- Pregnancies:  Number of times pregnant  => Número de embarazos.       \n",
    "- Glucose: Plasma glucose concentration a 2 hours in an oral glucose tolerance test => concentración de glucosa en sangre tras 2 horas del test oral                  \n",
    "- BloodPressure: Diastolic blood pressure (mm Hg) => Presión sanguínea diastólica          \n",
    "- SkinThickness: Triceps skin fold thickness (mm)  => Grosor del pliego cutáneo del triceps        \n",
    "- Insulin: 2-Hour serum insulin (mu U/ml) => Insulina sérica a las 2 horas.              \n",
    "- BMI: Body mass index (weight in kg/(height in m)^2)  => Índice de Masa Corporal                    \n",
    "- DiabetesPedigreeFunction: Diabetes pedigree function  => función hereditaria de diabetes\n",
    "- Age: Age (years)   => Edad                      \n",
    "- Outcome: Class variable (0 or 1) 268 of 768 are 1, the others are 0 => 0 No tiene diabetes, 1 tiene diabetes.\n",
    "\n"
   ]
  },
  {
   "cell_type": "markdown",
   "metadata": {},
   "source": [
    "**¿Tiene sentido que alguien tenga un índice de masa corporal o una presión sanguínea igual a cero?**\n",
    "\n",
    "No, debe tratarse de una ausencia de medida.\n",
    "\n",
    "\n",
    "**En las variables que corresponda, sustituye los valores que no tengan sentido por valores np.nan. Vuelve a utilizar el método info() de Pandas.\n",
    "¿Cuántos valores faltantes aprecias ahora?**\n",
    "\n",
    "Sólo pueden ser 0 la variable 'Pregnancies' y la target 'Outcome'.\n"
   ]
  },
  {
   "cell_type": "code",
   "execution_count": 6,
   "metadata": {},
   "outputs": [
    {
     "name": "stdout",
     "output_type": "stream",
     "text": [
      "<class 'pandas.core.frame.DataFrame'>\n",
      "RangeIndex: 768 entries, 0 to 767\n",
      "Data columns (total 9 columns):\n",
      " #   Column                    Non-Null Count  Dtype  \n",
      "---  ------                    --------------  -----  \n",
      " 0   Pregnancies               768 non-null    int64  \n",
      " 1   Glucose                   763 non-null    float64\n",
      " 2   BloodPressure             733 non-null    float64\n",
      " 3   SkinThickness             541 non-null    float64\n",
      " 4   Insulin                   394 non-null    float64\n",
      " 5   BMI                       757 non-null    float64\n",
      " 6   DiabetesPedigreeFunction  768 non-null    float64\n",
      " 7   Age                       768 non-null    int64  \n",
      " 8   Outcome                   768 non-null    int64  \n",
      "dtypes: float64(6), int64(3)\n",
      "memory usage: 54.1 KB\n"
     ]
    }
   ],
   "source": [
    "df_diabetes_nan = df_diabetes.copy()\n",
    "\n",
    "lista_columnas = df_diabetes_nan.columns\n",
    "lista_columnas = lista_columnas[1:8]\n",
    "df_diabetes_nan[lista_columnas] = df_diabetes_nan[lista_columnas].replace(0,np.nan)\n",
    "df_diabetes_nan.info()"
   ]
  },
  {
   "cell_type": "markdown",
   "metadata": {},
   "source": [
    "Podemos ver que del total de 768 registros, sólo tenemos valores de glucosa para 763, valores de presión sanguínea para 733, valores de espesor de pliegues para 541, valores de insulina para 394, valores de BMI para 757. Para el resto de variables no tenemos ningún valor faltante."
   ]
  },
  {
   "cell_type": "markdown",
   "metadata": {},
   "source": [
    "**1.b. La mayoría de los métodos de Machine Learning no pueden tomar como datos de entrada datasets en los que haya valores faltantes. Para poder\n",
    "usar estos datasets se pueden tomar dos enfoques. Uno de ellos es eliminar todos los registros en los que haya valores faltantes, de forma\n",
    "que nos quedamos con un nuevo dataset de menor tamaño que el original. Este enfoque es rápido y sencillo, pero tiene inconvenientes. Si\n",
    "el número de instancias con valores faltantes es grande, podemos quedarnos con un dataset demasiado pequeño. Además, es posible que\n",
    "existan razones o correlaciones por los cuales los datos faltan, por lo que al eliminarlos estaríamos eliminando del dataset un tipo particular de\n",
    "instancia que no se tendría en cuenta al entrenar el modelo, socavando su capacidad de predicción. Podemos comprobar esta circunstancia\n",
    "haciendo algunos análisis estadísticos de los datos presentes y los datos faltantes.**\n",
    "\n",
    "**Usando el DataFrame en el que los valores faltantes han sido marcados como np.nan, dibuja en una misma gráfica dos histogramas, ambos con\n",
    "nivel de transparencia (alpha) igual a 0.7, y de forma que ambos sean de colores distintos. Uno de los histogramas corresponderá al histograma de\n",
    "la variable “DiabetesPedrigreeFunction” de las instancias en las que “Insulin” tiene un valor numérico. El otro histograma corresponderá al\n",
    "histograma de la variable “DiabetesPedrigreeFunction” de las instancias en las que el valor de “Insulin” es un valor faltante. ¿Ambos histogramas\n",
    "son iguales? ¿Podemos pensar que los valores de “Insulin” son faltantes con independencia de cuál sea el valor de “DiabetesPedrigreeFunction”?**\n"
   ]
  },
  {
   "cell_type": "code",
   "execution_count": 7,
   "metadata": {},
   "outputs": [
    {
     "data": {
      "image/png": "[encoded data removed]",
      "text/plain": [
       "<Figure size 640x480 with 1 Axes>"
      ]
     },
     "metadata": {},
     "output_type": "display_data"
    }
   ],
   "source": [
    "plt.hist(df_diabetes_nan[df_diabetes_nan['Insulin'].notnull()]['DiabetesPedigreeFunction'], color='blue', alpha= 0.7, density = True)\n",
    "plt.hist(df_diabetes_nan[df_diabetes_nan['Insulin'].isnull()]['DiabetesPedigreeFunction'], color='red', alpha=0.7, density = True)\n",
    "plt.show()"
   ]
  },
  {
   "cell_type": "markdown",
   "metadata": {},
   "source": [
    "No, los histogramas no son iguales, pero siguen una distribución relativamente similar.\n",
    "\n",
    "Sí, podemos considerar que los valores de \"Insulin\" son independientes del valor de \"DiabetesPedrigreeFunction\". Primero por la propia definición de las variables, una es una función hereditaria (historial médico familiar) y la otra es una medida realizada. Además en el histograma vemos que cuando 'Insulin' no tiene valor, \"DiabetesPedrigreeFunction\", puede tomar diferentes valores."
   ]
  },
  {
   "cell_type": "markdown",
   "metadata": {},
   "source": [
    "**1c. Otro de los enfoques que se pueden utilizar es el de imputar o rellenar\n",
    "los valores faltantes del dataset. No existe una técnica general que nos\n",
    "permita encontrar la mejor imputación de valores faltantes, pero existen algunos enfoques básicos que, por su sencillez, pueden ser las primeras ideas a aplicar cuando trabajamos con un dataset desconocido.\n",
    "Permitiremos la presencia de valores faltantes tanto en el conjunto de\n",
    "entrenamiento como en el de test. Sin embargo, hay un factor\n",
    "imprescindible a tener en cuenta: debemos imputar los valores faltantes\n",
    "en el conjunto de test de acuerdo a las reglas y parámetros establecidos\n",
    "en el conjunto de entrenamiento. De lo contrario, estaríamos falseando la\n",
    "capacidad predictora de nuestro modelo debido a un fenómeno conocido\n",
    "como data leakage, en el que la predicción sobre el conjunto de test se\n",
    "evalúa utilizando una información sobre el conjunto de la que no se va a\n",
    "disponer cuando se aplique el modelo a instancias que provengan del\n",
    "mundo real. Para evitar el data leakage utilizaremos la clase Pipeline de\n",
    "Scikit Learn en la que se definirán dos pasos: primero el método de\n",
    "imputación y después el modelo de Machine Learning con el que se\n",
    "resolverá el problema.**\n",
    "\n",
    "**En este apartado vamos a imputar todos los valores faltantes del dataset\n",
    "utilizando un valor constante igual a cero. Declara un objeto de la clase\n",
    "SimpleImputer de Scikit Learn en el que el argumento “strategy” sea\n",
    "igual a “constant”. Declara un objeto de la clase RandomForestClassifier\n",
    "de Scikit Learn con los valores por defecto. Declara un objeto de la clase\n",
    "Pipeline de Scikit Learn en el que en la variable “steps” se utilice primero\n",
    "el objeto de SimpleImputer y después el objeto de\n",
    "RandomForestClassifier. Declara un objeto de la clase StratifiedKFold en\n",
    "el que la variable ‘n_splits’ sea igual a 10 y la variable “random_state”\n",
    "sea igual a 42. Utiliza el método “cross_val_score” de Scikit Learn para\n",
    "obtener 10 valores de la métrica del clasificador aplicado a este conjunto\n",
    "de datos. En los argumentos del método debemos utilizar el objeto de la\n",
    "clase Pipeline que hemos definido anteriormente, un DataFrame X donde\n",
    "se han tenido en cuenta solo las variables predictoras y un array de\n",
    "numpy Y en el que aparezcan los valores de la target. El argumento\n",
    "“scoring” debe ser igual a “accuracy\", y el argumento ‘cv’ debe ser igual\n",
    "al objeto de la clase “StratifiedKFold” que hemos declarado antes.\n",
    "Guarda los valores de las métricas obtenidas en un array llamado\n",
    "accuracy_constant.**"
   ]
  },
  {
   "cell_type": "code",
   "execution_count": 8,
   "metadata": {},
   "outputs": [],
   "source": [
    "from sklearn.impute import SimpleImputer\n",
    "from sklearn.ensemble import RandomForestClassifier\n",
    "from sklearn.pipeline import Pipeline\n",
    "from sklearn.model_selection import StratifiedKFold\n",
    "from sklearn.model_selection import cross_val_score"
   ]
  },
  {
   "cell_type": "code",
   "execution_count": 9,
   "metadata": {},
   "outputs": [],
   "source": [
    "X = df_diabetes_nan.copy().drop(columns='Outcome')\n",
    "y = df_diabetes_nan['Outcome']"
   ]
  },
  {
   "cell_type": "code",
   "execution_count": 10,
   "metadata": {},
   "outputs": [
    {
     "data": {
      "text/plain": [
       "array([0.80519481, 0.75324675, 0.71428571, 0.84415584, 0.80519481,\n",
       "       0.71428571, 0.76623377, 0.75324675, 0.72368421, 0.69736842])"
      ]
     },
     "execution_count": 10,
     "metadata": {},
     "output_type": "execute_result"
    }
   ],
   "source": [
    "imp_zero = SimpleImputer(missing_values=np.nan, fill_value=0, strategy='constant')\n",
    "clf_RF = RandomForestClassifier()\n",
    "pipe_zero = Pipeline(steps=[('imputador',imp_zero),('clasificador',clf_RF)])\n",
    "skf = StratifiedKFold(n_splits=10, random_state=42, shuffle=True)\n",
    "accuracy_constant = cross_val_score(pipe_zero, X, y, cv=skf, scoring='accuracy')\n",
    "accuracy_constant"
   ]
  },
  {
   "cell_type": "markdown",
   "metadata": {},
   "source": [
    "**1.d. En este apartado vamos a imputar todos los valores faltantes del dataset\n",
    "utilizando el valor de la media de la variable en el conjunto de\n",
    "entrenamiento. Repite los pasos del apartado anterior pero de forma que\n",
    "el argumento “strategy” del objeto de la clase SimpleImputer sea igual a\n",
    "“mean”. Guarda los valores de las métricas obtenidas en un array\n",
    "llamado accuracy_mean.**"
   ]
  },
  {
   "cell_type": "code",
   "execution_count": 11,
   "metadata": {},
   "outputs": [
    {
     "data": {
      "text/plain": [
       "array([0.75324675, 0.76623377, 0.71428571, 0.84415584, 0.76623377,\n",
       "       0.77922078, 0.77922078, 0.76623377, 0.73684211, 0.71052632])"
      ]
     },
     "execution_count": 11,
     "metadata": {},
     "output_type": "execute_result"
    }
   ],
   "source": [
    "imp_mean = SimpleImputer(missing_values=np.nan, strategy='mean')\n",
    "pipe_mean = Pipeline(steps=[('imputador',imp_mean),('clasificador',clf_RF)])\n",
    "accuracy_mean = cross_val_score(pipe_mean, X, y, cv=skf, scoring='accuracy')\n",
    "accuracy_mean"
   ]
  },
  {
   "cell_type": "markdown",
   "metadata": {},
   "source": [
    "**1.f.  En este apartado vamos a imputar todos los valores faltantes del dataset\n",
    "utilizando un modelo que permita asignar a cada valor faltante el valor\n",
    "numérico que estime más adecuado. Utilizamos un imputador de tipo\n",
    "KNN, en el que el valor numérico de un valor faltante se decide mirando\n",
    "cuál es el valor de sus k vecinos más próximos. Un parámetro\n",
    "fundamental del modelo será el valor de k, que podremos variar para\n",
    "intentar mejorar la capacidad predictiva del pipeline en su conjunto.\n",
    "Repite los pasos del apartado anterior pero de forma que en vez de\n",
    "declarar un objeto de la clase SimpleImputer, declares un objeto de la\n",
    "clase KNNImputer de Scikit Learn. Donde el valor de la variable\n",
    "“n_neighbors” sea igual a 5. Declara el objeto de la clase Pipeline de\n",
    "forma que en la variable “steps” se utilice primero el objeto de\n",
    "KNNImputer y después el objeto de RandomForestClassifier. Declara el\n",
    "objeto de la clase StratifiedKFold y utiliza el método “cross_val_score” de\n",
    "la misma forma que anteriormente. Guarda los valores de las métricas\n",
    "obtenidas en un array llamado accuracy_knn_k5.**"
   ]
  },
  {
   "cell_type": "code",
   "execution_count": 12,
   "metadata": {},
   "outputs": [],
   "source": [
    "from sklearn.impute import KNNImputer"
   ]
  },
  {
   "cell_type": "code",
   "execution_count": 13,
   "metadata": {},
   "outputs": [
    {
     "data": {
      "text/plain": [
       "array([0.76623377, 0.80519481, 0.7012987 , 0.88311688, 0.81818182,\n",
       "       0.76623377, 0.77922078, 0.77922078, 0.75      , 0.69736842])"
      ]
     },
     "execution_count": 13,
     "metadata": {},
     "output_type": "execute_result"
    }
   ],
   "source": [
    "k=5\n",
    "imp_knn = KNNImputer(n_neighbors=k)\n",
    "pipe_knn = Pipeline(steps=[('imputador',imp_knn),('clasificador',clf_RF)])\n",
    "accuracy_knn_k5 = cross_val_score(pipe_mean, X, y, cv=skf, scoring='accuracy')\n",
    "accuracy_knn_k5"
   ]
  },
  {
   "cell_type": "markdown",
   "metadata": {},
   "source": [
    "**1.g. Representa en un gráfico de violín los valores de los arrays \n",
    "accuracy_constant, accuracy_mean, accuracy_most_frequent y \n",
    "accuracy_knn_k5. ¿Qué método de imputación parece más apropiado \n",
    "para este conjunto de datos basándonos en los valores de la accuracy \n",
    "obtenidos para el dataset de test?**"
   ]
  },
  {
   "cell_type": "code",
   "execution_count": 14,
   "metadata": {},
   "outputs": [
    {
     "data": {
      "text/plain": [
       "<AxesSubplot:>"
      ]
     },
     "execution_count": 14,
     "metadata": {},
     "output_type": "execute_result"
    },
    {
     "data": {
      "image/png": "[encoded data removed]",
      "text/plain": [
       "<Figure size 640x480 with 1 Axes>"
      ]
     },
     "metadata": {},
     "output_type": "display_data"
    }
   ],
   "source": [
    "# fig, ax = plt.subplots()\n",
    "# ax.violinplot(accuracy_knn_k5)\n",
    "datos_grafico = {'constant':accuracy_constant,'mean':accuracy_mean,'knn_k5':accuracy_knn_k5}\n",
    "df_grafico = pd.DataFrame(datos_grafico)\n",
    "sns.violinplot(data=df_grafico)"
   ]
  },
  {
   "cell_type": "markdown",
   "metadata": {},
   "source": [
    "El gráfico de violín nos muestra que el método más apropiado para este dataset es la imputación para los avlores ausentes de un valor constante = 0."
   ]
  },
  {
   "cell_type": "markdown",
   "metadata": {},
   "source": [
    "**1.h. Busca información sobre el fenómeno de data leakage. Haz un pequeño\n",
    "resumen de un párrafo de la información que hayas obtenido,\n",
    "especificando de dónde la has obtenido, y pon un ejemplo de caso de uso\n",
    "en el que se produzca data leakage por no separar convenientemente los\n",
    "conjuntos de entrenamiento y test.**\n"
   ]
  },
  {
   "cell_type": "code",
   "execution_count": null,
   "metadata": {},
   "outputs": [],
   "source": []
  },
  {
   "cell_type": "code",
   "execution_count": null,
   "metadata": {},
   "outputs": [],
   "source": []
  },
  {
   "cell_type": "code",
   "execution_count": null,
   "metadata": {},
   "outputs": [],
   "source": []
  },
  {
   "cell_type": "code",
   "execution_count": null,
   "metadata": {},
   "outputs": [],
   "source": []
  },
  {
   "cell_type": "code",
   "execution_count": null,
   "metadata": {},
   "outputs": [],
   "source": []
  },
  {
   "cell_type": "code",
   "execution_count": null,
   "metadata": {},
   "outputs": [],
   "source": []
  },
  {
   "cell_type": "code",
   "execution_count": null,
   "metadata": {},
   "outputs": [],
   "source": []
  },
  {
   "cell_type": "markdown",
   "metadata": {},
   "source": [
    "EJERCICIO 2"
   ]
  },
  {
   "cell_type": "code",
   "execution_count": 15,
   "metadata": {},
   "outputs": [
    {
     "data": {
      "text/html": [
       "<div>\n",
       "<style scoped>\n",
       "    .dataframe tbody tr th:only-of-type {\n",
       "        vertical-align: middle;\n",
       "    }\n",
       "\n",
       "    .dataframe tbody tr th {\n",
       "        vertical-align: top;\n",
       "    }\n",
       "\n",
       "    .dataframe thead th {\n",
       "        text-align: right;\n",
       "    }\n",
       "</style>\n",
       "<table border=\"1\" class=\"dataframe\">\n",
       "  <thead>\n",
       "    <tr style=\"text-align: right;\">\n",
       "      <th></th>\n",
       "      <th>longitude</th>\n",
       "      <th>latitude</th>\n",
       "      <th>housing_median_age</th>\n",
       "      <th>total_rooms</th>\n",
       "      <th>total_bedrooms</th>\n",
       "      <th>population</th>\n",
       "      <th>households</th>\n",
       "      <th>median_income</th>\n",
       "      <th>median_house_value</th>\n",
       "      <th>ocean_proximity</th>\n",
       "    </tr>\n",
       "  </thead>\n",
       "  <tbody>\n",
       "    <tr>\n",
       "      <th>0</th>\n",
       "      <td>-122.23</td>\n",
       "      <td>37.88</td>\n",
       "      <td>41.0</td>\n",
       "      <td>880.0</td>\n",
       "      <td>129.0</td>\n",
       "      <td>322.0</td>\n",
       "      <td>126.0</td>\n",
       "      <td>8.3252</td>\n",
       "      <td>452600.0</td>\n",
       "      <td>NEAR BAY</td>\n",
       "    </tr>\n",
       "    <tr>\n",
       "      <th>1</th>\n",
       "      <td>-122.22</td>\n",
       "      <td>37.86</td>\n",
       "      <td>21.0</td>\n",
       "      <td>7099.0</td>\n",
       "      <td>1106.0</td>\n",
       "      <td>2401.0</td>\n",
       "      <td>1138.0</td>\n",
       "      <td>8.3014</td>\n",
       "      <td>358500.0</td>\n",
       "      <td>NEAR BAY</td>\n",
       "    </tr>\n",
       "    <tr>\n",
       "      <th>2</th>\n",
       "      <td>-122.24</td>\n",
       "      <td>37.85</td>\n",
       "      <td>52.0</td>\n",
       "      <td>1467.0</td>\n",
       "      <td>190.0</td>\n",
       "      <td>496.0</td>\n",
       "      <td>177.0</td>\n",
       "      <td>7.2574</td>\n",
       "      <td>352100.0</td>\n",
       "      <td>NEAR BAY</td>\n",
       "    </tr>\n",
       "    <tr>\n",
       "      <th>3</th>\n",
       "      <td>-122.25</td>\n",
       "      <td>37.85</td>\n",
       "      <td>52.0</td>\n",
       "      <td>1274.0</td>\n",
       "      <td>235.0</td>\n",
       "      <td>558.0</td>\n",
       "      <td>219.0</td>\n",
       "      <td>5.6431</td>\n",
       "      <td>341300.0</td>\n",
       "      <td>NEAR BAY</td>\n",
       "    </tr>\n",
       "    <tr>\n",
       "      <th>4</th>\n",
       "      <td>-122.25</td>\n",
       "      <td>37.85</td>\n",
       "      <td>52.0</td>\n",
       "      <td>1627.0</td>\n",
       "      <td>280.0</td>\n",
       "      <td>565.0</td>\n",
       "      <td>259.0</td>\n",
       "      <td>3.8462</td>\n",
       "      <td>342200.0</td>\n",
       "      <td>NEAR BAY</td>\n",
       "    </tr>\n",
       "    <tr>\n",
       "      <th>...</th>\n",
       "      <td>...</td>\n",
       "      <td>...</td>\n",
       "      <td>...</td>\n",
       "      <td>...</td>\n",
       "      <td>...</td>\n",
       "      <td>...</td>\n",
       "      <td>...</td>\n",
       "      <td>...</td>\n",
       "      <td>...</td>\n",
       "      <td>...</td>\n",
       "    </tr>\n",
       "    <tr>\n",
       "      <th>20635</th>\n",
       "      <td>-121.09</td>\n",
       "      <td>39.48</td>\n",
       "      <td>25.0</td>\n",
       "      <td>1665.0</td>\n",
       "      <td>374.0</td>\n",
       "      <td>845.0</td>\n",
       "      <td>330.0</td>\n",
       "      <td>1.5603</td>\n",
       "      <td>78100.0</td>\n",
       "      <td>INLAND</td>\n",
       "    </tr>\n",
       "    <tr>\n",
       "      <th>20636</th>\n",
       "      <td>-121.21</td>\n",
       "      <td>39.49</td>\n",
       "      <td>18.0</td>\n",
       "      <td>697.0</td>\n",
       "      <td>150.0</td>\n",
       "      <td>356.0</td>\n",
       "      <td>114.0</td>\n",
       "      <td>2.5568</td>\n",
       "      <td>77100.0</td>\n",
       "      <td>INLAND</td>\n",
       "    </tr>\n",
       "    <tr>\n",
       "      <th>20637</th>\n",
       "      <td>-121.22</td>\n",
       "      <td>39.43</td>\n",
       "      <td>17.0</td>\n",
       "      <td>2254.0</td>\n",
       "      <td>485.0</td>\n",
       "      <td>1007.0</td>\n",
       "      <td>433.0</td>\n",
       "      <td>1.7000</td>\n",
       "      <td>92300.0</td>\n",
       "      <td>INLAND</td>\n",
       "    </tr>\n",
       "    <tr>\n",
       "      <th>20638</th>\n",
       "      <td>-121.32</td>\n",
       "      <td>39.43</td>\n",
       "      <td>18.0</td>\n",
       "      <td>1860.0</td>\n",
       "      <td>409.0</td>\n",
       "      <td>741.0</td>\n",
       "      <td>349.0</td>\n",
       "      <td>1.8672</td>\n",
       "      <td>84700.0</td>\n",
       "      <td>INLAND</td>\n",
       "    </tr>\n",
       "    <tr>\n",
       "      <th>20639</th>\n",
       "      <td>-121.24</td>\n",
       "      <td>39.37</td>\n",
       "      <td>16.0</td>\n",
       "      <td>2785.0</td>\n",
       "      <td>616.0</td>\n",
       "      <td>1387.0</td>\n",
       "      <td>530.0</td>\n",
       "      <td>2.3886</td>\n",
       "      <td>89400.0</td>\n",
       "      <td>INLAND</td>\n",
       "    </tr>\n",
       "  </tbody>\n",
       "</table>\n",
       "<p>20640 rows × 10 columns</p>\n",
       "</div>"
      ],
      "text/plain": [
       "       longitude  latitude  housing_median_age  total_rooms  total_bedrooms  \\\n",
       "0        -122.23     37.88                41.0        880.0           129.0   \n",
       "1        -122.22     37.86                21.0       7099.0          1106.0   \n",
       "2        -122.24     37.85                52.0       1467.0           190.0   \n",
       "3        -122.25     37.85                52.0       1274.0           235.0   \n",
       "4        -122.25     37.85                52.0       1627.0           280.0   \n",
       "...          ...       ...                 ...          ...             ...   \n",
       "20635    -121.09     39.48                25.0       1665.0           374.0   \n",
       "20636    -121.21     39.49                18.0        697.0           150.0   \n",
       "20637    -121.22     39.43                17.0       2254.0           485.0   \n",
       "20638    -121.32     39.43                18.0       1860.0           409.0   \n",
       "20639    -121.24     39.37                16.0       2785.0           616.0   \n",
       "\n",
       "       population  households  median_income  median_house_value  \\\n",
       "0           322.0       126.0         8.3252            452600.0   \n",
       "1          2401.0      1138.0         8.3014            358500.0   \n",
       "2           496.0       177.0         7.2574            352100.0   \n",
       "3           558.0       219.0         5.6431            341300.0   \n",
       "4           565.0       259.0         3.8462            342200.0   \n",
       "...           ...         ...            ...                 ...   \n",
       "20635       845.0       330.0         1.5603             78100.0   \n",
       "20636       356.0       114.0         2.5568             77100.0   \n",
       "20637      1007.0       433.0         1.7000             92300.0   \n",
       "20638       741.0       349.0         1.8672             84700.0   \n",
       "20639      1387.0       530.0         2.3886             89400.0   \n",
       "\n",
       "      ocean_proximity  \n",
       "0            NEAR BAY  \n",
       "1            NEAR BAY  \n",
       "2            NEAR BAY  \n",
       "3            NEAR BAY  \n",
       "4            NEAR BAY  \n",
       "...               ...  \n",
       "20635          INLAND  \n",
       "20636          INLAND  \n",
       "20637          INLAND  \n",
       "20638          INLAND  \n",
       "20639          INLAND  \n",
       "\n",
       "[20640 rows x 10 columns]"
      ]
     },
     "execution_count": 15,
     "metadata": {},
     "output_type": "execute_result"
    }
   ],
   "source": [
    "df_house = pd.read_csv('./housing.csv')\n",
    "df_house"
   ]
  },
  {
   "cell_type": "code",
   "execution_count": 16,
   "metadata": {},
   "outputs": [],
   "source": [
    "from sklearn.model_selection import train_test_split"
   ]
  },
  {
   "cell_type": "code",
   "execution_count": 17,
   "metadata": {},
   "outputs": [],
   "source": [
    "df_house.drop('ocean_proximity', axis = 1, inplace=True)\n",
    "df_house.dropna(inplace=True)\n",
    "y_house = df_house['median_house_value'].values\n",
    "df_house.drop('median_house_value', axis=1, inplace=True)\n",
    "\n",
    "X_train, X_test, y_train, y_test = train_test_split(df_house, y_house, test_size=0.3, random_state=12)"
   ]
  },
  {
   "cell_type": "markdown",
   "metadata": {},
   "source": [
    "A)"
   ]
  },
  {
   "cell_type": "code",
   "execution_count": 18,
   "metadata": {},
   "outputs": [
    {
     "data": {
      "text/plain": [
       "TransformedTargetRegressor(regressor=Pipeline(steps=[('columnTransformer',\n",
       "                                                      ColumnTransformer(transformers=[('std_scaler',\n",
       "                                                                                       StandardScaler(),\n",
       "                                                                                       ['longitude',\n",
       "                                                                                        'latitude']),\n",
       "                                                                                      ('pow_scaler',\n",
       "                                                                                       PowerTransformer(method='box-cox'),\n",
       "                                                                                       slice(2, None, None))])),\n",
       "                                                     ('select_k_best',\n",
       "                                                      SelectKBest(k=8)),\n",
       "                                                     ('regression',\n",
       "                                                      LinearRegression())]),\n",
       "                           transformer=PowerTransformer(method='box-cox'))"
      ]
     },
     "execution_count": 18,
     "metadata": {},
     "output_type": "execute_result"
    }
   ],
   "source": [
    "from sklearn.compose import ColumnTransformer\n",
    "from sklearn.preprocessing import PowerTransformer, StandardScaler\n",
    "from sklearn.feature_selection import SelectKBest\n",
    "from sklearn.linear_model import LinearRegression\n",
    "from sklearn.compose import TransformedTargetRegressor\n",
    "from sklearn.pipeline import Pipeline\n",
    "\n",
    "columnTransformer = ColumnTransformer([\n",
    "    ('std_scaler', StandardScaler(), ['longitude', 'latitude']),\n",
    "    ('pow_scaler', PowerTransformer(method='box-cox'), slice(2, None)),\n",
    "])\n",
    "\n",
    "pipeline = Pipeline([\n",
    "    ('columnTransformer', columnTransformer),\n",
    "    ('select_k_best', SelectKBest(k=8)),\n",
    "    ('regression', LinearRegression())\n",
    "])\n",
    "\n",
    "tt = TransformedTargetRegressor(regressor=pipeline, transformer = PowerTransformer(method='box-cox'))\n",
    "\n",
    "tt.fit(X_train, y_train)"
   ]
  },
  {
   "cell_type": "markdown",
   "metadata": {},
   "source": [
    "B)"
   ]
  },
  {
   "cell_type": "code",
   "execution_count": 19,
   "metadata": {},
   "outputs": [
    {
     "name": "stdout",
     "output_type": "stream",
     "text": [
      "valores RMSE: [81212.84599451 79657.13548352 80762.45192558 83594.15654955\n",
      " 83472.42750531]\n",
      "Media RMSE: 81739.80349169286\n"
     ]
    }
   ],
   "source": [
    "from sklearn.feature_selection import f_regression\n",
    "from sklearn.model_selection import cross_val_score\n",
    "from sklearn.metrics import mean_squared_error\n",
    "\n",
    "selectKb = SelectKBest(score_func=f_regression, k=4)\n",
    "\n",
    "pipeline = Pipeline([\n",
    "    ('preprocessing', columnTransformer),\n",
    "    ('feature_selection', selectKb),\n",
    "    ('regression', LinearRegression())\n",
    "])\n",
    "\n",
    "feat_sel_corr = TransformedTargetRegressor(regressor=pipeline, transformer=PowerTransformer(method='box-cox'))\n",
    "\n",
    "rmse_scores = cross_val_score(feat_sel_corr, X_train, y_train, cv=5, scoring='neg_root_mean_squared_error')\n",
    "print('valores RMSE:', -rmse_scores)\n",
    "print('Media RMSE:', -rmse_scores.mean())"
   ]
  },
  {
   "cell_type": "markdown",
   "metadata": {},
   "source": [
    "C)"
   ]
  },
  {
   "cell_type": "code",
   "execution_count": 23,
   "metadata": {},
   "outputs": [
    {
     "name": "stdout",
     "output_type": "stream",
     "text": [
      "<bound method BaseEstimator.get_params of TransformedTargetRegressor(regressor=Pipeline(steps=[('preprocessing',\n",
      "                                                      ColumnTransformer(transformers=[('std_scaler',\n",
      "                                                                                       StandardScaler(),\n",
      "                                                                                       ['longitude',\n",
      "                                                                                        'latitude']),\n",
      "                                                                                      ('pow_scaler',\n",
      "                                                                                       PowerTransformer(method='box-cox'),\n",
      "                                                                                       slice(2, None, None))])),\n",
      "                                                     ('feature_selection',\n",
      "                                                      SelectKBest(k=4,\n",
      "                                                                  score_func=<function f_regression at 0x7fa123883d30>)),\n",
      "                                                     ('regression',\n",
      "                                                      LinearRegression())]),\n",
      "                           transformer=PowerTransformer(method='box-cox'))>\n"
     ]
    },
    {
     "ename": "NameError",
     "evalue": "name 'eat_sel_corr' is not defined",
     "output_type": "error",
     "traceback": [
      "\u001b[0;31m---------------------------------------------------------------------------\u001b[0m",
      "\u001b[0;31mNameError\u001b[0m                                 Traceback (most recent call last)",
      "\u001b[0;32m/var/folders/p9/gb36nyh95njcdjz3ww8mkr_00000gn/T/ipykernel_48362/3636581591.py\u001b[0m in \u001b[0;36m<module>\u001b[0;34m\u001b[0m\n\u001b[1;32m      1\u001b[0m \u001b[0mfeat_sel_corr\u001b[0m\u001b[0;34m.\u001b[0m\u001b[0mfit\u001b[0m\u001b[0;34m(\u001b[0m\u001b[0mX_train\u001b[0m\u001b[0;34m,\u001b[0m \u001b[0my_train\u001b[0m\u001b[0;34m)\u001b[0m\u001b[0;34m\u001b[0m\u001b[0;34m\u001b[0m\u001b[0m\n\u001b[1;32m      2\u001b[0m \u001b[0mprint\u001b[0m\u001b[0;34m(\u001b[0m\u001b[0mfeat_sel_corr\u001b[0m\u001b[0;34m.\u001b[0m\u001b[0mget_params\u001b[0m\u001b[0;34m)\u001b[0m\u001b[0;34m\u001b[0m\u001b[0;34m\u001b[0m\u001b[0m\n\u001b[0;32m----> 3\u001b[0;31m \u001b[0mvariables\u001b[0m\u001b[0;34m=\u001b[0m\u001b[0meat_sel_corr\u001b[0m\u001b[0;34m.\u001b[0m\u001b[0mregressor_\u001b[0m\u001b[0;34m.\u001b[0m\u001b[0mnamed_steps\u001b[0m\u001b[0;34m[\u001b[0m\u001b[0;34m'feature_selection'\u001b[0m\u001b[0;34m]\u001b[0m\u001b[0;34m.\u001b[0m\u001b[0mget_support\u001b[0m\u001b[0;34m(\u001b[0m\u001b[0;34m)\u001b[0m\u001b[0;34m\u001b[0m\u001b[0;34m\u001b[0m\u001b[0m\n\u001b[0m",
      "\u001b[0;31mNameError\u001b[0m: name 'eat_sel_corr' is not defined"
     ]
    }
   ],
   "source": [
    "feat_sel_corr.fit(X_train, y_train)\n",
    "print(feat_sel_corr.get_params)\n",
    "variables=feat_sel_corr.regressor_.named_steps['feature_selection'].get_support()\n"
   ]
  },
  {
   "cell_type": "code",
   "execution_count": null,
   "metadata": {},
   "outputs": [],
   "source": []
  }
 ],
 "metadata": {
  "kernelspec": {
   "display_name": "Python 3 (ipykernel)",
   "language": "python",
   "name": "python3"
  },
  "language_info": {
   "codemirror_mode": {
    "name": "ipython",
    "version": 3
   },
   "file_extension": ".py",
   "mimetype": "text/x-python",
   "name": "python",
   "nbconvert_exporter": "python",
   "pygments_lexer": "ipython3",
   "version": "3.9.13"
  }
 },
 "nbformat": 4,
 "nbformat_minor": 4
}
